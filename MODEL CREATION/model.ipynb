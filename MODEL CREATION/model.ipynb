{
 "cells": [
  {
   "cell_type": "code",
   "execution_count": 1,
   "metadata": {},
   "outputs": [],
   "source": [
    "import pandas as pd\n",
    "from datetime import datetime"
   ]
  },
  {
   "cell_type": "code",
   "execution_count": 5,
   "metadata": {},
   "outputs": [],
   "source": [
    "def preprocess_data(file_path):\n",
    "\n",
    "    data = pd.read_csv(file_path)\n",
    "    data['time'] = pd.to_datetime(data['time'])\n",
    "\n",
    "    press_events = data[data['event'] == 'press']\n",
    "    \n",
    "    #Calculating typing duration in minutes\n",
    "    total_duration = (press_events['time'].max() - press_events['time'].min()).total_seconds() / 60.0\n",
    "    #Calculating number of backspaces\n",
    "    backspace_count = press_events[press_events['key'] == 'Key.backspace'].shape[0]\n",
    "    #Calculating typing speed(per minute)\n",
    "    typing_speed = press_events.shape[0] / total_duration\n",
    "    #Calculating backspaces (per minute)\n",
    "    backspaces_per_minute = backspace_count / total_duration\n",
    "    \n",
    "    return typing_speed, backspaces_per_minute\n"
   ]
  },
  {
   "cell_type": "code",
   "execution_count": null,
   "metadata": {},
   "outputs": [],
   "source": [
    "typing_speed_owner, backspaces_per_minute_owner = preprocess_data('D:\\\\user_authentication\\\\test_m.csv')\n",
    "typing_speed_non_owner, backspaces_per_minute_non_owner = preprocess_data('D:\\\\user_authentication\\\\test_a.csv')\n",
    "\n",
    "data = {\n",
    "    'typing_speed': [typing_speed_owner, typing_speed_non_owner],\n",
    "    'backspaces_per_minute': [backspaces_per_minute_owner, backspaces_per_minute_non_owner],\n",
    "    'label': [1, 0]  # 1 for owner, 0 for non-owner\n",
    "}\n",
    "\n",
    "df = pd.DataFrame(data)"
   ]
  },
  {
   "cell_type": "markdown",
   "metadata": {},
   "source": [
    "## Classification model"
   ]
  },
  {
   "cell_type": "code",
   "execution_count": null,
   "metadata": {},
   "outputs": [],
   "source": [
    "from sklearn.model_selection import train_test_split\n",
    "from sklearn.preprocessing import StandardScaler\n",
    "from sklearn.neural_network import MLPClassifier\n",
    "from sklearn.metrics import accuracy_score, classification_report\n",
    "\n",
    "X = df[['typing_speed', 'backspaces_per_minute']]\n",
    "y = df['label']\n",
    "\n",
    "X_train, X_test, y_train, y_test = train_test_split(X, y, test_size=0.2, random_state=42)\n",
    "\n",
    "scaler = StandardScaler()\n",
    "X_train = scaler.fit_transform(X_train)\n",
    "X_test = scaler.transform(X_test)\n",
    "\n",
    "#Training a Neural Network Classifier\n",
    "model = MLPClassifier(hidden_layer_sizes=(10,), max_iter=1000, random_state=42)\n",
    "model.fit(X_train, y_train)\n",
    "\n",
    "y_pred = model.predict(X_test)\n",
    "\n",
    "accuracy = accuracy_score(y_test, y_pred)\n",
    "print(f\"Test Accuracy: {accuracy:.2f}\")\n",
    "print(classification_report(y_test, y_pred))\n"
   ]
  }
 ],
 "metadata": {
  "kernelspec": {
   "display_name": "Python 3",
   "language": "python",
   "name": "python3"
  },
  "language_info": {
   "codemirror_mode": {
    "name": "ipython",
    "version": 3
   },
   "file_extension": ".py",
   "mimetype": "text/x-python",
   "name": "python",
   "nbconvert_exporter": "python",
   "pygments_lexer": "ipython3",
   "version": "3.11.1"
  }
 },
 "nbformat": 4,
 "nbformat_minor": 2
}
